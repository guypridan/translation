{
 "cells": [
  {
   "cell_type": "markdown",
   "metadata": {},
   "source": [
    "Language Translation with `nn.Transformer` and torchtext\n",
    "========================================================\n",
    "\n",
    "This tutorial shows:\n",
    "\n",
    ":   -   How to train a translation model from scratch using Transformer.\n",
    "    -   Use torchtext library to access\n",
    "        [Multi30k](http://www.statmt.org/wmt16/multimodal-task.html#task1)\n",
    "        dataset to train a German to English translation model.\n"
   ]
  },
  {
   "cell_type": "markdown",
   "metadata": {},
   "source": [
    "Data Sourcing and Processing\n",
    "============================\n",
    "\n",
    "[torchtext library](https://pytorch.org/text/stable/) has utilities for\n",
    "creating datasets that can be easily iterated through for the purposes\n",
    "of creating a language translation model. In this example, we show how\n",
    "to use torchtext\\'s inbuilt datasets, tokenize a raw text sentence,\n",
    "build vocabulary, and numericalize tokens into tensor. We will use\n",
    "[Multi30k dataset from torchtext\n",
    "library](https://pytorch.org/text/stable/datasets.html#multi30k) that\n",
    "yields a pair of source-target raw sentences.\n",
    "\n",
    "To access torchtext datasets, please install torchdata following\n",
    "instructions at <https://github.com/pytorch/data>.\n"
   ]
  },
  {
   "cell_type": "code",
   "execution_count": 1,
   "metadata": {
    "collapsed": false
   },
   "outputs": [],
   "source": [
    "from torchtext.data.utils import get_tokenizer\n",
    "from torchtext.vocab import build_vocab_from_iterator\n",
    "from torchtext.datasets import multi30k, Multi30k\n",
    "from typing import Iterable, List\n",
    "\n",
    "\n",
    "\n",
    "# We need to modify the URLs for the dataset since the links to the original dataset are broken\n",
    "# Refer to https://github.com/pytorch/text/issues/1756#issuecomment-1163664163 for more info\n",
    "multi30k.URL[\"train\"] = \"https://raw.githubusercontent.com/neychev/small_DL_repo/master/datasets/Multi30k/training.tar.gz\"\n",
    "multi30k.URL[\"valid\"] = \"https://raw.githubusercontent.com/neychev/small_DL_repo/master/datasets/Multi30k/validation.tar.gz\"\n",
    "\n",
    "SRC_LANGUAGE = 'de'\n",
    "TGT_LANGUAGE = 'en'\n",
    "\n",
    "# Place-holders\n",
    "token_transform = {}\n",
    "vocab_transform = {}"
   ]
  },
  {
   "cell_type": "markdown",
   "metadata": {},
   "source": [
    "Create source and target language tokenizer. Make sure to install the\n",
    "dependencies.\n",
    "\n",
    "``` {.sourceCode .python}\n",
    "pip install -U torchdata\n",
    "pip install -U spacy\n",
    "python -m spacy download en_core_web_sm\n",
    "python -m spacy download de_core_news_sm\n",
    "```\n"
   ]
  },
  {
   "cell_type": "code",
   "execution_count": 2,
   "metadata": {
    "collapsed": false
   },
   "outputs": [],
   "source": [
    "token_transform[SRC_LANGUAGE] = get_tokenizer('spacy', language='de_core_news_sm')\n",
    "token_transform[TGT_LANGUAGE] = get_tokenizer('spacy', language='en_core_web_sm')\n",
    "\n",
    "\n",
    "# helper function to yield list of tokens\n",
    "def yield_tokens(data_iter: Iterable, language: str) -> List[str]:\n",
    "    language_index = {SRC_LANGUAGE: 0, TGT_LANGUAGE: 1}\n",
    "\n",
    "    for data_sample in data_iter:\n",
    "        yield token_transform[language](data_sample[language_index[language]])\n",
    "\n",
    "# Define special symbols and indices\n",
    "UNK_IDX, PAD_IDX, BOS_IDX, EOS_IDX = 0, 1, 2, 3\n",
    "# Make sure the tokens are in order of their indices to properly insert them in vocab\n",
    "special_symbols = ['<unk>', '<pad>', '<bos>', '<eos>']\n",
    "\n",
    "for ln in [SRC_LANGUAGE, TGT_LANGUAGE]:\n",
    "    # Training data Iterator\n",
    "    train_iter = Multi30k(split='train', language_pair=(SRC_LANGUAGE, TGT_LANGUAGE))\n",
    "    # Create torchtext's Vocab object\n",
    "    vocab_transform[ln] = build_vocab_from_iterator(yield_tokens(train_iter, ln),\n",
    "                                                    min_freq=1,\n",
    "                                                    specials=special_symbols,\n",
    "                                                    special_first=True)\n",
    "\n",
    "# Set ``UNK_IDX`` as the default index. This index is returned when the token is not found.\n",
    "# If not set, it throws ``RuntimeError`` when the queried token is not found in the Vocabulary.\n",
    "for ln in [SRC_LANGUAGE, TGT_LANGUAGE]:\n",
    "  vocab_transform[ln].set_default_index(UNK_IDX)"
   ]
  },
  {
   "cell_type": "markdown",
   "metadata": {},
   "source": [
    "Seq2Seq Network using Transformer\n",
    "=================================\n",
    "\n",
    "Transformer is a Seq2Seq model introduced in [\"Attention is all you\n",
    "need\"](https://papers.nips.cc/paper/2017/file/3f5ee243547dee91fbd053c1c4a845aa-Paper.pdf)\n",
    "paper for solving machine translation tasks. Below, we will create a\n",
    "Seq2Seq network that uses Transformer. The network consists of three\n",
    "parts. First part is the embedding layer. This layer converts tensor of\n",
    "input indices into corresponding tensor of input embeddings. These\n",
    "embedding are further augmented with positional encodings to provide\n",
    "position information of input tokens to the model. The second part is\n",
    "the actual\n",
    "[Transformer](https://pytorch.org/docs/stable/generated/torch.nn.Transformer.html)\n",
    "model. Finally, the output of the Transformer model is passed through\n",
    "linear layer that gives unnormalized probabilities for each token in the\n",
    "target language.\n"
   ]
  },
  {
   "cell_type": "code",
   "execution_count": 3,
   "metadata": {
    "collapsed": false
   },
   "outputs": [],
   "source": [
    "from torch import Tensor\n",
    "import torch\n",
    "import torch.nn as nn\n",
    "from torch.nn import Transformer\n",
    "from torchsummary import summary\n",
    "from torch.utils.tensorboard import SummaryWriter\n",
    "import random\n",
    "import math\n",
    "\n",
    "DEVICE = torch.device('cuda' if torch.cuda.is_available() else 'cpu')\n",
    "SRC_VOCAB_SIZE = len(vocab_transform[SRC_LANGUAGE])\n",
    "TGT_VOCAB_SIZE = len(vocab_transform[TGT_LANGUAGE])\n",
    "\n",
    "# helper Module that adds positional encoding to the token embedding to introduce a notion of word order.\n",
    "class PositionalEncoding(nn.Module):\n",
    "    def __init__(self,\n",
    "                 emb_size: int,\n",
    "                 dropout: float,\n",
    "                 maxlen: int = 5000):\n",
    "        super(PositionalEncoding, self).__init__()\n",
    "        den = torch.exp(- torch.arange(0, emb_size, 2)* math.log(10000) / emb_size)\n",
    "        pos = torch.arange(0, maxlen).reshape(maxlen, 1)\n",
    "        pos_embedding = torch.zeros((maxlen, emb_size))\n",
    "        pos_embedding[:, 0::2] = torch.sin(pos * den)\n",
    "        pos_embedding[:, 1::2] = torch.cos(pos * den)\n",
    "        pos_embedding = pos_embedding.unsqueeze(-2)\n",
    "\n",
    "        self.dropout = nn.Dropout(dropout)\n",
    "        self.register_buffer('pos_embedding', pos_embedding)\n",
    "\n",
    "    def forward(self, token_embedding: Tensor):\n",
    "        return self.dropout(token_embedding + self.pos_embedding[:token_embedding.size(0), :])\n",
    "\n",
    "# helper Module to convert tensor of input indices into corresponding tensor of token embeddings\n",
    "class TokenEmbedding(nn.Module):\n",
    "    def __init__(self, vocab_size: int, emb_size):\n",
    "        super(TokenEmbedding, self).__init__()\n",
    "        self.embedding = nn.Embedding(vocab_size, emb_size)\n",
    "        self.emb_size = emb_size\n",
    "\n",
    "    def forward(self, tokens: Tensor):\n",
    "        return self.embedding(tokens.long()) * math.sqrt(self.emb_size)\n",
    "\n",
    "class Encoder(nn.Module):\n",
    "    def __init__(self, input_size, embedding_size, hidden_size, num_layers, p):\n",
    "        super(Encoder,self).__init__()\n",
    "        self.hidden_size = hidden_size\n",
    "        self.num_layers = num_layers\n",
    "\n",
    "        self.dropout = nn.Dropout(p)\n",
    "        self.embedding = TokenEmbedding(input_size, embedding_size)\n",
    "        self.rnn = nn.LSTM(embedding_size, hidden_size, num_layers, dropout=p)\n",
    "\n",
    "    def forward(self, x):\n",
    "        # x shape: (seq_len, N)\n",
    "\n",
    "        embedding = self.dropout(self.embedding(x))\n",
    "        # embedding.shape = (seq_len, N , embedding_size)\n",
    "        _, (hidden,cell) = self.rnn(embedding)\n",
    "\n",
    "        return hidden, cell\n",
    "\n",
    "    \n",
    "\n",
    "class Decoder(nn.Module):\n",
    "    def __init__(self,vocab_size,embedding_size,hidden_size,num_layers, p):\n",
    "        super(Decoder,self).__init__()\n",
    "        self.hidden_size = hidden_size\n",
    "        self.num_layers = num_layers\n",
    "        self.dropout = nn.Dropout(p)\n",
    "        self.embedding = TokenEmbedding(vocab_size, embedding_size)\n",
    "        self.rnn = nn.LSTM(embedding_size,hidden_size,num_layers, dropout=p)\n",
    "        self.fc = nn.Linear(hidden_size,vocab_size)\n",
    "\n",
    "    def forward(self,x,hidden,cell):\n",
    "        # x.shape = (N) => (1,N)\n",
    "        x = x.unsqueeze(0)\n",
    "\n",
    "        embedding = self.dropout(self.embedding(x))\n",
    "        output, (hidden,cell) = self.rnn(embedding, (hidden,cell))\n",
    "\n",
    "        predictions = self.fc(output)\n",
    "        # predictions.shape = (1,N,vocab_size)\n",
    "        predictions = predictions.squeeze(0)\n",
    "\n",
    "        return predictions, hidden, cell\n",
    "\n",
    "\n",
    "# Seq2Seq Network\n",
    "class Seq2SeqLSTM(nn.Module):\n",
    "    def __init__(self, encoder, decoder):\n",
    "        super(Seq2SeqLSTM, self).__init__()\n",
    "        self.encoder = encoder\n",
    "        self.decoder = decoder\n",
    "        \n",
    "\n",
    "    def forward(self, src, tgt):\n",
    "        batch_size = src.shape[1]\n",
    "        target_len = tgt.shape[0]\n",
    "        \n",
    "        outputs = torch.zeros(target_len,batch_size,TGT_VOCAB_SIZE).to(DEVICE)\n",
    "\n",
    "        hidden, cell = self.encoder(src)\n",
    "\n",
    "        x = tgt[0]\n",
    "        \n",
    "        for t in range(1,target_len):\n",
    "            output, hidden, cell = self.decoder(x,hidden,cell)\n",
    "\n",
    "            outputs[t] = output\n",
    "\n",
    "            best_guess = output.argmax(1)\n",
    "\n",
    "            x = best_guess\n",
    "\n",
    "        return outputs\n",
    "\n"
   ]
  },
  {
   "cell_type": "markdown",
   "metadata": {},
   "source": [
    "During training, we need a subsequent word mask that will prevent the\n",
    "model from looking into the future words when making predictions. We\n",
    "will also need masks to hide source and target padding tokens. Below,\n",
    "let\\'s define a function that will take care of both.\n"
   ]
  },
  {
   "cell_type": "code",
   "execution_count": 4,
   "metadata": {
    "collapsed": false
   },
   "outputs": [
    {
     "name": "stdout",
     "output_type": "stream",
     "text": [
      "Seq2SeqLSTM(\n",
      "  (encoder): Encoder(\n",
      "    (dropout): Dropout(p=0.5, inplace=False)\n",
      "    (embedding): TokenEmbedding(\n",
      "      (embedding): Embedding(19214, 300)\n",
      "    )\n",
      "    (rnn): LSTM(300, 512, num_layers=2, dropout=0.5)\n",
      "  )\n",
      "  (decoder): Decoder(\n",
      "    (dropout): Dropout(p=0.5, inplace=False)\n",
      "    (embedding): TokenEmbedding(\n",
      "      (embedding): Embedding(10837, 300)\n",
      "    )\n",
      "    (rnn): LSTM(300, 512, num_layers=2, dropout=0.5)\n",
      "    (fc): Linear(in_features=512, out_features=10837, bias=True)\n",
      "  )\n",
      ")\n",
      "Model parameter count:  22111321\n"
     ]
    }
   ],
   "source": [
    "torch.manual_seed(0)\n",
    "\n",
    "writer = SummaryWriter(f'runs/loss_plot')\n",
    "\n",
    "EMB_SIZE = 300\n",
    "BATCH_SIZE = 128\n",
    "HIDDEN_SIZE = 512\n",
    "NUM_LAYERS = 2\n",
    "DROPOUT = 0.5\n",
    "\n",
    "\n",
    "encoder = Encoder(SRC_VOCAB_SIZE,EMB_SIZE,HIDDEN_SIZE,NUM_LAYERS,DROPOUT).to(DEVICE)\n",
    "decoder = Decoder(TGT_VOCAB_SIZE, EMB_SIZE, HIDDEN_SIZE,NUM_LAYERS,DROPOUT).to(DEVICE)\n",
    "\n",
    "lstm = Seq2SeqLSTM(encoder,decoder).to(DEVICE)\n",
    "\n",
    "print(lstm)\n",
    "print(\"Model parameter count: \",sum(p.numel() for p in lstm.parameters() if p.requires_grad))\n",
    "\n",
    "for p in lstm.parameters():\n",
    "    if p.dim() > 1:\n",
    "        nn.init.xavier_uniform_(p)\n",
    "\n",
    "loss_fn = torch.nn.CrossEntropyLoss(ignore_index=PAD_IDX)\n",
    "optimizer = torch.optim.Adam(lstm.parameters(), lr=0.0001, betas=(0.9, 0.98), eps=1e-9)"
   ]
  },
  {
   "cell_type": "markdown",
   "metadata": {},
   "source": [
    "Collation\n",
    "=========\n",
    "\n",
    "As seen in the `Data Sourcing and Processing` section, our data iterator\n",
    "yields a pair of raw strings. We need to convert these string pairs into\n",
    "the batched tensors that can be processed by our `Seq2Seq` network\n",
    "defined previously. Below we define our collate function that converts a\n",
    "batch of raw strings into batch tensors that can be fed directly into\n",
    "our model.\n"
   ]
  },
  {
   "cell_type": "code",
   "execution_count": 5,
   "metadata": {
    "collapsed": false
   },
   "outputs": [],
   "source": [
    "from torch.nn.utils.rnn import pad_sequence\n",
    "\n",
    "# helper function to club together sequential operations\n",
    "def sequential_transforms(*transforms):\n",
    "    def func(txt_input):\n",
    "        for transform in transforms:\n",
    "            txt_input = transform(txt_input)\n",
    "        return txt_input\n",
    "    return func\n",
    "\n",
    "# function to add BOS/EOS and create tensor for input sequence indices\n",
    "def tensor_transform(token_ids: List[int]):\n",
    "    return torch.cat((torch.tensor([BOS_IDX]),\n",
    "                      torch.tensor(token_ids),\n",
    "                      torch.tensor([EOS_IDX])))\n",
    "\n",
    "# ``src`` and ``tgt`` language text transforms to convert raw strings into tensors indices\n",
    "text_transform = {}\n",
    "for ln in [SRC_LANGUAGE, TGT_LANGUAGE]:\n",
    "    text_transform[ln] = sequential_transforms(token_transform[ln], #Tokenization\n",
    "                                               vocab_transform[ln], #Numericalization\n",
    "                                               tensor_transform) # Add BOS/EOS and create tensor\n",
    "\n",
    "\n",
    "# function to collate data samples into batch tensors\n",
    "def collate_fn(batch):\n",
    "    src_batch, tgt_batch = [], []\n",
    "    for src_sample, tgt_sample in batch:\n",
    "        src_batch.append(text_transform[SRC_LANGUAGE](src_sample.rstrip(\"\\n\")))\n",
    "        tgt_batch.append(text_transform[TGT_LANGUAGE](tgt_sample.rstrip(\"\\n\")))\n",
    "\n",
    "    src_batch = pad_sequence(src_batch, padding_value=PAD_IDX)\n",
    "    tgt_batch = pad_sequence(tgt_batch, padding_value=PAD_IDX)\n",
    "    return src_batch, tgt_batch"
   ]
  },
  {
   "cell_type": "markdown",
   "metadata": {},
   "source": [
    "Let\\'s define training and evaluation loop that will be called for each\n",
    "epoch.\n"
   ]
  },
  {
   "cell_type": "code",
   "execution_count": 6,
   "metadata": {
    "collapsed": false
   },
   "outputs": [],
   "source": [
    "from torch.utils.data import DataLoader\n",
    "\n",
    "def train_epoch(model, optimizer):\n",
    "    model.train()\n",
    "    losses = 0\n",
    "    train_iter = Multi30k(split='train', language_pair=(SRC_LANGUAGE, TGT_LANGUAGE))\n",
    "    train_dataloader = DataLoader(train_iter, batch_size=BATCH_SIZE, collate_fn=collate_fn)\n",
    "    for src, tgt in train_dataloader:\n",
    "        src = src.to(DEVICE)\n",
    "        tgt = tgt.to(DEVICE)\n",
    "\n",
    "        output = model(src,tgt)\n",
    "        output = output[1:].reshape(-1,output.shape[2])\n",
    "        tgt = tgt[1:].reshape(-1)\n",
    "\n",
    "        optimizer.zero_grad()\n",
    "        loss = loss_fn(output,tgt)\n",
    "        loss.backward()\n",
    "\n",
    "        torch.nn.utils.clip_grad_norm_(model.parameters(), max_norm=1)\n",
    "\n",
    "        optimizer.step()\n",
    "        losses += loss.item()\n",
    "\n",
    "    return losses / len(list(train_dataloader))\n",
    "\n",
    "\n",
    "def evaluate(model):\n",
    "    model.eval()\n",
    "    losses = 0\n",
    "\n",
    "    val_iter = Multi30k(split='valid', language_pair=(SRC_LANGUAGE, TGT_LANGUAGE))\n",
    "    val_dataloader = DataLoader(val_iter, batch_size=BATCH_SIZE, collate_fn=collate_fn)\n",
    "    for src, tgt in val_dataloader:\n",
    "        src = src.to(DEVICE)\n",
    "        tgt = tgt.to(DEVICE)\n",
    "\n",
    "        output = model(src,tgt)\n",
    "        output = output[1:].reshape(-1,output.shape[2])\n",
    "        tgt = tgt[1:].reshape(-1)\n",
    "        loss = loss_fn(output,tgt)\n",
    "        losses += loss.item()\n",
    "\n",
    "    return losses / len(list(val_dataloader))"
   ]
  },
  {
   "cell_type": "markdown",
   "metadata": {},
   "source": [
    "Now we have all the ingredients to train our model. Let\\'s do it!\n"
   ]
  },
  {
   "cell_type": "code",
   "execution_count": 7,
   "metadata": {
    "collapsed": false
   },
   "outputs": [
    {
     "name": "stderr",
     "output_type": "stream",
     "text": [
      "c:\\Users\\guy\\miniconda3\\envs\\torch\\lib\\site-packages\\torch\\utils\\data\\datapipes\\iter\\combining.py:333: UserWarning: Some child DataPipes are not exhausted when __iter__ is called. We are resetting the buffer and each child DataPipe will read from the start again.\n",
      "  warnings.warn(\"Some child DataPipes are not exhausted when __iter__ is called. We are resetting \"\n"
     ]
    },
    {
     "name": "stdout",
     "output_type": "stream",
     "text": [
      "Epoch: 1, Train loss: 6.023, Val loss: 5.212, Epoch time = 52.376s\n",
      "saving model...\n",
      "Epoch: 2, Train loss: 5.089, Val loss: 5.067, Epoch time = 55.117s\n",
      "saving model...\n",
      "Epoch: 3, Train loss: 4.978, Val loss: 4.986, Epoch time = 60.844s\n",
      "saving model...\n",
      "Epoch: 4, Train loss: 4.881, Val loss: 4.937, Epoch time = 60.761s\n",
      "saving model...\n",
      "Epoch: 5, Train loss: 4.803, Val loss: 4.894, Epoch time = 63.374s\n",
      "saving model...\n",
      "Epoch: 6, Train loss: 4.737, Val loss: 4.845, Epoch time = 60.977s\n",
      "saving model...\n",
      "Epoch: 7, Train loss: 4.681, Val loss: 4.807, Epoch time = 61.987s\n",
      "saving model...\n",
      "Epoch: 8, Train loss: 4.629, Val loss: 4.768, Epoch time = 61.641s\n",
      "saving model...\n",
      "Epoch: 9, Train loss: 4.583, Val loss: 4.727, Epoch time = 60.399s\n",
      "saving model...\n",
      "Epoch: 10, Train loss: 4.541, Val loss: 4.708, Epoch time = 62.043s\n",
      "saving model...\n",
      "Epoch: 11, Train loss: 4.496, Val loss: 4.669, Epoch time = 64.602s\n",
      "saving model...\n",
      "Epoch: 12, Train loss: 4.452, Val loss: 4.652, Epoch time = 61.962s\n",
      "saving model...\n",
      "Epoch: 13, Train loss: 4.412, Val loss: 4.610, Epoch time = 64.745s\n",
      "saving model...\n",
      "Epoch: 14, Train loss: 4.371, Val loss: 4.592, Epoch time = 71.160s\n",
      "saving model...\n",
      "Epoch: 15, Train loss: 4.323, Val loss: 4.555, Epoch time = 62.961s\n",
      "saving model...\n",
      "Epoch: 16, Train loss: 4.277, Val loss: 4.508, Epoch time = 66.392s\n",
      "saving model...\n",
      "Epoch: 17, Train loss: 4.227, Val loss: 4.469, Epoch time = 66.023s\n",
      "saving model...\n",
      "Epoch: 18, Train loss: 4.175, Val loss: 4.437, Epoch time = 67.961s\n",
      "saving model...\n",
      "Epoch: 19, Train loss: 4.142, Val loss: 4.394, Epoch time = 70.824s\n",
      "saving model...\n",
      "Epoch: 20, Train loss: 4.089, Val loss: 4.384, Epoch time = 63.689s\n",
      "saving model...\n",
      "Epoch: 21, Train loss: 4.052, Val loss: 4.355, Epoch time = 67.085s\n",
      "saving model...\n",
      "Epoch: 22, Train loss: 4.003, Val loss: 4.320, Epoch time = 67.072s\n",
      "saving model...\n",
      "Epoch: 23, Train loss: 3.955, Val loss: 4.274, Epoch time = 68.651s\n",
      "saving model...\n",
      "Epoch: 24, Train loss: 3.898, Val loss: 4.260, Epoch time = 69.552s\n",
      "saving model...\n",
      "Epoch: 25, Train loss: 3.857, Val loss: 4.224, Epoch time = 66.803s\n",
      "saving model...\n",
      "Epoch: 26, Train loss: 3.815, Val loss: 4.195, Epoch time = 68.131s\n",
      "saving model...\n",
      "Epoch: 27, Train loss: 3.774, Val loss: 4.161, Epoch time = 68.018s\n",
      "saving model...\n",
      "Epoch: 28, Train loss: 3.736, Val loss: 4.173, Epoch time = 76.050s\n",
      "Epoch: 29, Train loss: 3.700, Val loss: 4.147, Epoch time = 69.867s\n",
      "saving model...\n",
      "Epoch: 30, Train loss: 3.664, Val loss: 4.111, Epoch time = 69.677s\n",
      "saving model...\n"
     ]
    }
   ],
   "source": [
    "from timeit import default_timer as timer\n",
    "NUM_EPOCHS = 30\n",
    "lstm.to(DEVICE)\n",
    "minValLoss = float('inf')\n",
    "for epoch in range(1, NUM_EPOCHS+1):\n",
    "    start_time = timer()\n",
    "    train_loss = train_epoch(lstm, optimizer)\n",
    "    end_time = timer()\n",
    "    val_loss = evaluate(lstm)\n",
    "    print((f\"Epoch: {epoch}, Train loss: {train_loss:.3f}, Val loss: {val_loss:.3f}, \"f\"Epoch time = {(end_time - start_time):.3f}s\"))\n",
    "\n",
    "    # save checkpoint if validation loss improves\n",
    "    if minValLoss > val_loss:\n",
    "        print(\"saving model...\")\n",
    "        minValLoss = val_loss\n",
    "        bestCheckpoint = f'.data/checkpoints/lstm_v3_epoch={epoch}_valLoss={val_loss}.pth'\n",
    "        torch.save(lstm.state_dict(), bestCheckpoint)"
   ]
  },
  {
   "cell_type": "code",
   "execution_count": 9,
   "metadata": {},
   "outputs": [
    {
     "name": "stderr",
     "output_type": "stream",
     "text": [
      "c:\\Users\\guy\\miniconda3\\envs\\torch\\lib\\site-packages\\torch\\utils\\data\\datapipes\\iter\\combining.py:333: UserWarning: Some child DataPipes are not exhausted when __iter__ is called. We are resetting the buffer and each child DataPipe will read from the start again.\n",
      "  warnings.warn(\"Some child DataPipes are not exhausted when __iter__ is called. We are resetting \"\n"
     ]
    },
    {
     "name": "stdout",
     "output_type": "stream",
     "text": [
      "Epoch: 60, Train loss: 3.637, Val loss: 4.088, Epoch time = 54.383s\n",
      "saving model...\n"
     ]
    }
   ],
   "source": [
    "NUM_EPOCHS = 30\n",
    "for epoch in range(NUM_EPOCHS, NUM_EPOCHS*2+1):\n",
    "    start_time = timer()\n",
    "    train_loss = train_epoch(lstm, optimizer)\n",
    "    end_time = timer()\n",
    "    val_loss = evaluate(lstm)\n",
    "    print((f\"Epoch: {epoch}, Train loss: {train_loss:.3f}, Val loss: {val_loss:.3f}, \"f\"Epoch time = {(end_time - start_time):.3f}s\"))\n",
    "\n",
    "    # save checkpoint if validation loss improves\n",
    "    if minValLoss > val_loss:\n",
    "        print(\"saving model...\")\n",
    "        minValLoss = val_loss\n",
    "        bestCheckpoint = f'.data/checkpoints/lstm_v3_epoch={epoch}_valLoss={val_loss}.pth'\n",
    "        torch.save(lstm.state_dict(), bestCheckpoint)"
   ]
  },
  {
   "cell_type": "code",
   "execution_count": 11,
   "metadata": {
    "collapsed": false
   },
   "outputs": [
    {
     "data": {
      "text/plain": [
       "<All keys matched successfully>"
      ]
     },
     "execution_count": 11,
     "metadata": {},
     "output_type": "execute_result"
    }
   ],
   "source": [
    "checkpoint = torch.load(bestCheckpoint)\n",
    "lstm.load_state_dict(checkpoint)"
   ]
  },
  {
   "cell_type": "code",
   "execution_count": 12,
   "metadata": {},
   "outputs": [],
   "source": [
    "# function to generate output sequence using greedy algorithm\n",
    "def greedy_decode(model, src, max_len, start_symbol):\n",
    "    src = src.to(DEVICE)\n",
    "\n",
    "    hx,cx = model.encoder(src)\n",
    "    ys = torch.ones(1).fill_(start_symbol).type(torch.long).to(DEVICE)\n",
    "    for _ in range(max_len-1):\n",
    "        hx,cx = (hx.to(DEVICE),cx.to(DEVICE))\n",
    "        out,hx,cx = model.decoder(torch.tensor([ys[-1]]).to(DEVICE),hx,cx)\n",
    "        _, next_word = torch.max(out, dim=1)\n",
    "        next_word = next_word.item()\n",
    "\n",
    "        ys = torch.cat([ys,\n",
    "                        torch.ones(1).type_as(src.data).fill_(next_word)], dim=0)\n",
    "        if next_word == EOS_IDX:\n",
    "            break\n",
    "    return ys\n",
    "\n",
    "\n",
    "# actual function to translate input sentence into target language\n",
    "def translate(model: torch.nn.Module, src_sentence: str):\n",
    "    model.eval()\n",
    "    src = text_transform[SRC_LANGUAGE](src_sentence).view(-1, 1)\n",
    "    num_tokens = src.shape[0]\n",
    "    tgt_tokens = greedy_decode(\n",
    "        model,  src, max_len=num_tokens + 5, start_symbol=BOS_IDX).flatten()\n",
    "    return \" \".join(vocab_transform[TGT_LANGUAGE].lookup_tokens(list(tgt_tokens.cpu().numpy()))).replace(\"<bos>\", \"\").replace(\"<eos>\", \"\")"
   ]
  },
  {
   "cell_type": "code",
   "execution_count": 13,
   "metadata": {},
   "outputs": [
    {
     "data": {
      "text/plain": [
       "' Two young men are are are the the . . '"
      ]
     },
     "execution_count": 13,
     "metadata": {},
     "output_type": "execute_result"
    }
   ],
   "source": [
    "translate(lstm,'Zwei junge weiße Männer sind im Freien in der Nähe vieler Büsche.')"
   ]
  },
  {
   "cell_type": "code",
   "execution_count": 18,
   "metadata": {},
   "outputs": [
    {
     "name": "stdout",
     "output_type": "stream",
     "text": [
      "inference time: 15.58476410000003\n"
     ]
    }
   ],
   "source": [
    "translated_sentences = []\n",
    "references = []\n",
    "with open('E:\\Code\\SeminarWork\\.data\\\\test_2016_flickr.de', 'r') as srcs, open('E:\\Code\\SeminarWork\\.data\\\\test_2016_flickr.en', 'r') as tgts:\n",
    "    start = timer()\n",
    "    for src, tgt in zip(srcs, tgts):\n",
    "        translated_sentence = translate(lstm,src.rstrip())\n",
    "        translated_sentences.append(translated_sentence)\n",
    "        references.append(tgt.strip())\n",
    "    end = timer()\n",
    "\n",
    "print(f'inference time: {end-start}')"
   ]
  },
  {
   "cell_type": "code",
   "execution_count": null,
   "metadata": {},
   "outputs": [],
   "source": [
    "from sacrebleu import corpus_bleu\n",
    "\n",
    "refs = [[ref] for ref in references]\n",
    "\n",
    "bleu = corpus_bleu(translated_sentences, references)\n",
    "\n",
    "print(f'BLEU score: {bleu.score:.4f}')\n"
   ]
  },
  {
   "cell_type": "code",
   "execution_count": null,
   "metadata": {},
   "outputs": [],
   "source": [
    "i = 200\n",
    "for translated, ref in zip(translated_sentences,refs):\n",
    "    print(f'translated: {translated}\\nreference: {ref}')\n",
    "    i-=1\n",
    "    if i == 0:\n",
    "        break"
   ]
  },
  {
   "cell_type": "markdown",
   "metadata": {},
   "source": [
    "References\n",
    "==========\n",
    "\n",
    "1.  Attention is all you need paper.\n",
    "    <https://papers.nips.cc/paper/2017/file/3f5ee243547dee91fbd053c1c4a845aa-Paper.pdf>\n",
    "2.  The annotated transformer.\n",
    "    <https://nlp.seas.harvard.edu/2018/04/03/attention.html#positional-encoding>\n"
   ]
  }
 ],
 "metadata": {
  "kernelspec": {
   "display_name": "Python 3",
   "language": "python",
   "name": "python3"
  },
  "language_info": {
   "codemirror_mode": {
    "name": "ipython",
    "version": 3
   },
   "file_extension": ".py",
   "mimetype": "text/x-python",
   "name": "python",
   "nbconvert_exporter": "python",
   "pygments_lexer": "ipython3",
   "version": "3.10.12"
  }
 },
 "nbformat": 4,
 "nbformat_minor": 0
}
